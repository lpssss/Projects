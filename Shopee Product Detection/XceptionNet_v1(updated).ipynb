{
  "nbformat": 4,
  "nbformat_minor": 0,
  "metadata": {
    "kernelspec": {
      "display_name": "Python 3",
      "language": "python",
      "name": "python3"
    },
    "language_info": {
      "codemirror_mode": {
        "name": "ipython",
        "version": 3
      },
      "file_extension": ".py",
      "mimetype": "text/x-python",
      "name": "python",
      "nbconvert_exporter": "python",
      "pygments_lexer": "ipython3",
      "version": "3.7.6"
    },
    "colab": {
      "name": "XceptionNet_v1(updated).ipynb",
      "provenance": []
    },
    "accelerator": "GPU"
  },
  "cells": [
    {
      "cell_type": "code",
      "metadata": {
        "id": "AcYjgFJ9Z0cH",
        "colab": {
          "base_uri": "https://localhost:8080/",
          "height": 71
        },
        "outputId": "de89db2d-9118-471e-c5a5-2a4b85f1be32"
      },
      "source": [
        "import numpy as np\n",
        "import matplotlib.pyplot as plt\n",
        "import tensorflow as tf\n",
        "from tensorflow.keras.preprocessing import image\n",
        "%matplotlib inline\n",
        "from tqdm import tqdm\n",
        "import pandas as pd\n",
        "from tensorflow.keras import layers\n",
        "from tensorflow.keras import optimizers\n",
        "from sklearn import metrics\n",
        "import seaborn as sns"
      ],
      "execution_count": null,
      "outputs": [
        {
          "output_type": "stream",
          "text": [
            "/usr/local/lib/python3.6/dist-packages/statsmodels/tools/_testing.py:19: FutureWarning: pandas.util.testing is deprecated. Use the functions in the public API at pandas.testing instead.\n",
            "  import pandas.util.testing as tm\n"
          ],
          "name": "stderr"
        }
      ]
    },
    {
      "cell_type": "code",
      "metadata": {
        "id": "cL58lrnVAlX-",
        "colab": {
          "base_uri": "https://localhost:8080/",
          "height": 122
        },
        "outputId": "3bf910be-ec1a-45aa-8255-dc8f55d36b9b"
      },
      "source": [
        "from google.colab import drive\n",
        "drive.mount('/content/drive/')"
      ],
      "execution_count": null,
      "outputs": [
        {
          "output_type": "stream",
          "text": [
            "Go to this URL in a browser: https://accounts.google.com/o/oauth2/auth?client_id=947318989803-6bn6qk8qdgf4n4g3pfee6491hc0brc4i.apps.googleusercontent.com&redirect_uri=urn%3aietf%3awg%3aoauth%3a2.0%3aoob&response_type=code&scope=email%20https%3a%2f%2fwww.googleapis.com%2fauth%2fdocs.test%20https%3a%2f%2fwww.googleapis.com%2fauth%2fdrive%20https%3a%2f%2fwww.googleapis.com%2fauth%2fdrive.photos.readonly%20https%3a%2f%2fwww.googleapis.com%2fauth%2fpeopleapi.readonly\n",
            "\n",
            "Enter your authorization code:\n",
            "··········\n",
            "Mounted at /content/drive/\n"
          ],
          "name": "stdout"
        }
      ]
    },
    {
      "cell_type": "code",
      "metadata": {
        "id": "cIZYSKJCAqBl"
      },
      "source": [
        "!unzip -uq \"/content/drive/My Drive/test/Copy of shopee-product-detection-dataset.zip\" -d \"/home/dataset\""
      ],
      "execution_count": null,
      "outputs": []
    },
    {
      "cell_type": "code",
      "metadata": {
        "id": "WZX7Oe-rZ0cO"
      },
      "source": [
        "train_df=pd.read_csv('/home/dataset/train.csv')\n",
        "#train_df=pd.read_csv('train.csv')\n",
        "train_df.sort_values(by=['category','filename'],inplace=True)\n",
        "train_df.reset_index(drop=True,inplace=True)\n"
      ],
      "execution_count": null,
      "outputs": []
    },
    {
      "cell_type": "code",
      "metadata": {
        "id": "cXHaVN8fZ0cY",
        "colab": {
          "base_uri": "https://localhost:8080/",
          "height": 34
        },
        "outputId": "44964932-f84c-49bf-be1e-1dbefdcb7036"
      },
      "source": [
        "train_df['category']=train_df['category'].astype(str)\n",
        "for i in tqdm(range(train_df.shape[0])):\n",
        "    full_path='/home/dataset/train/train/'+str(train_df['category'][i]).zfill(2)+'/'+train_df['filename'][i]\n",
        "    #full_path='D:/train/'+str(train_df['category'][i]).zfill(2)+'/'+train_df['filename'][i]\n",
        "    train_df['filename'][i]=full_path\n",
        "    train_df['category'][i]=train_df['category'][i].zfill(2)\n"
      ],
      "execution_count": null,
      "outputs": [
        {
          "output_type": "stream",
          "text": [
            "100%|██████████| 105392/105392 [02:25<00:00, 725.16it/s]\n"
          ],
          "name": "stderr"
        }
      ]
    },
    {
      "cell_type": "code",
      "metadata": {
        "id": "4Cci3nqmZ0cb",
        "colab": {
          "base_uri": "https://localhost:8080/",
          "height": 493
        },
        "outputId": "ae9c5351-41b4-4309-dec4-1eb75c28755d"
      },
      "source": [
        "train_set=train_df.sample(frac=0.8,random_state=16)\n",
        "train_df=pd.concat([train_df,train_set])\n",
        "test_set=train_df.drop_duplicates(keep=False)\n",
        "test_set=test_set.sample(frac=1,random_state=2)\n",
        "print(test_set)\n",
        "print(train_set)"
      ],
      "execution_count": null,
      "outputs": [
        {
          "output_type": "stream",
          "text": [
            "                                                filename category\n",
            "16913  /home/dataset/train/train/06/4bdc7701f23502108...       06\n",
            "30045  /home/dataset/train/train/11/500a346cec8f34b0d...       11\n",
            "51405  /home/dataset/train/train/20/26d970ecb7501fc7c...       20\n",
            "70873  /home/dataset/train/train/27/809957ad47990977d...       27\n",
            "5010   /home/dataset/train/train/01/dbc4962162d8d459e...       01\n",
            "...                                                  ...      ...\n",
            "5250   /home/dataset/train/train/01/f20ed6f91e7dc8c25...       01\n",
            "94485  /home/dataset/train/train/37/dedd8131094bc3570...       37\n",
            "59383  /home/dataset/train/train/23/2f79c4a063721a5c5...       23\n",
            "33358  /home/dataset/train/train/12/bd14d2bd85ee21258...       12\n",
            "12689  /home/dataset/train/train/04/b36741d125109e0b9...       04\n",
            "\n",
            "[21078 rows x 2 columns]\n",
            "                                                 filename category\n",
            "104484  /home/dataset/train/train/41/ac1b24d42f81d9f5d...       41\n",
            "2655    /home/dataset/train/train/00/fd9800ac36bb722f5...       00\n",
            "83690   /home/dataset/train/train/32/a04bf2e1f145bd9f0...       32\n",
            "22006   /home/dataset/train/train/08/35c83b27a30bcf288...       08\n",
            "44180   /home/dataset/train/train/16/cd38f0ac8cedd4152...       16\n",
            "...                                                   ...      ...\n",
            "14448   /home/dataset/train/train/05/5f19d369221395929...       05\n",
            "29397   /home/dataset/train/train/10/f7dca7b1a0d5c3148...       10\n",
            "82609   /home/dataset/train/train/32/25e9f5d7d2a85622c...       32\n",
            "21088   /home/dataset/train/train/07/dfe3c92e1794eeecc...       07\n",
            "99921   /home/dataset/train/train/39/f2594a885f88d7ddf...       39\n",
            "\n",
            "[84314 rows x 2 columns]\n"
          ],
          "name": "stdout"
        }
      ]
    },
    {
      "cell_type": "code",
      "metadata": {
        "id": "7qE3gK2iEZc7"
      },
      "source": [
        "test_set.to_csv('/content/drive/My Drive/test_set.csv') \n",
        "train_set.to_csv('/content/drive/My Drive/train_set.csv') "
      ],
      "execution_count": null,
      "outputs": []
    },
    {
      "cell_type": "code",
      "metadata": {
        "id": "xTitgNiNZ0ce",
        "colab": {
          "base_uri": "https://localhost:8080/",
          "height": 68
        },
        "outputId": "c4d33f6e-ae8b-4d60-d16a-4dc0030192ae"
      },
      "source": [
        "img_gen=image.ImageDataGenerator(samplewise_center=True, samplewise_std_normalization=True,validation_split=0.1)\n",
        "img_train = img_gen.flow_from_dataframe(\n",
        "    train_set,\n",
        "    shuffle=True,\n",
        "    x_col='filename',\n",
        "    y_col='category',\n",
        "    class_mode='categorical',\n",
        "    target_size=(256, 256),\n",
        "    batch_size=32,\n",
        "    subset='training'\n",
        ")\n",
        "\n",
        "img_val = img_gen.flow_from_dataframe(\n",
        "    train_set,\n",
        "    shuffle=False,\n",
        "    x_col='filename',\n",
        "    y_col='category',\n",
        "    class_mode='categorical',\n",
        "    target_size=(256, 256),\n",
        "    batch_size=32,\n",
        "    subset='validation'\n",
        ")\n",
        "test_datagen = image.ImageDataGenerator(samplewise_center=True, samplewise_std_normalization=True)\n",
        "img_test = test_datagen.flow_from_dataframe(\n",
        "    test_set,\n",
        "    shuffle=False,\n",
        "    x_col='filename',\n",
        "    y_col='category',\n",
        "    class_mode='categorical',\n",
        "    target_size=(256, 256),\n",
        "    batch_size=32,\n",
        ")"
      ],
      "execution_count": null,
      "outputs": [
        {
          "output_type": "stream",
          "text": [
            "Found 75883 validated image filenames belonging to 42 classes.\n",
            "Found 8431 validated image filenames belonging to 42 classes.\n",
            "Found 21078 validated image filenames belonging to 42 classes.\n"
          ],
          "name": "stdout"
        }
      ]
    },
    {
      "cell_type": "code",
      "metadata": {
        "id": "egIyiIWiZ0ch",
        "colab": {
          "base_uri": "https://localhost:8080/",
          "height": 459
        },
        "outputId": "8c8e3e35-3745-4744-be76-8af6252c7ff9"
      },
      "source": [
        "base_model = tf.keras.applications.Xception(\n",
        "    weights=\"imagenet\",  # Load weights pre-trained on ImageNet.\n",
        "    input_shape=(256, 256, 3),\n",
        "    include_top=False,\n",
        ")  # Do not include the ImageNet classifier at the top.\n",
        "\n",
        "# Freeze the base_model\n",
        "base_model.trainable = False\n",
        "\n",
        "# Create new model on top\n",
        "inputs = tf.keras.Input(shape=(256, 256, 3))\n",
        "x=inputs\n",
        "\n",
        "\n",
        "# The base model contains batchnorm layers. We want to keep them in inference mode\n",
        "# when we unfreeze the base model for fine-tuning, so we make sure that the\n",
        "# base_model is running in inference mode here.\n",
        "x = base_model(x, training=False)\n",
        "x = layers.GlobalAveragePooling2D()(x)\n",
        "x = layers.Dropout(0.2)(x)  # Regularize with dropout\n",
        "x = layers.Dense(4096, activation='relu')(x) \n",
        "x = layers.Dropout(0.5)(x)\n",
        "x = layers.Dense(4096, activation='relu')(x) \n",
        "x = layers.Dropout(0.5)(x)\n",
        "outputs = layers.Dense(42,activation='softmax')(x)\n",
        "model = tf.keras.Model(inputs, outputs)\n",
        "\n",
        "model.summary()\n"
      ],
      "execution_count": null,
      "outputs": [
        {
          "output_type": "stream",
          "text": [
            "Model: \"model_6\"\n",
            "_________________________________________________________________\n",
            "Layer (type)                 Output Shape              Param #   \n",
            "=================================================================\n",
            "input_14 (InputLayer)        [(None, 256, 256, 3)]     0         \n",
            "_________________________________________________________________\n",
            "xception (Model)             (None, 8, 8, 2048)        20861480  \n",
            "_________________________________________________________________\n",
            "global_average_pooling2d_6 ( (None, 2048)              0         \n",
            "_________________________________________________________________\n",
            "dropout_15 (Dropout)         (None, 2048)              0         \n",
            "_________________________________________________________________\n",
            "dense_15 (Dense)             (None, 4096)              8392704   \n",
            "_________________________________________________________________\n",
            "dropout_16 (Dropout)         (None, 4096)              0         \n",
            "_________________________________________________________________\n",
            "dense_16 (Dense)             (None, 4096)              16781312  \n",
            "_________________________________________________________________\n",
            "dropout_17 (Dropout)         (None, 4096)              0         \n",
            "_________________________________________________________________\n",
            "dense_17 (Dense)             (None, 42)                172074    \n",
            "=================================================================\n",
            "Total params: 46,207,570\n",
            "Trainable params: 25,346,090\n",
            "Non-trainable params: 20,861,480\n",
            "_________________________________________________________________\n"
          ],
          "name": "stdout"
        }
      ]
    },
    {
      "cell_type": "code",
      "metadata": {
        "id": "lWIcmezFZ0ck",
        "colab": {
          "base_uri": "https://localhost:8080/",
          "height": 119
        },
        "outputId": "74a284a4-af7e-4223-e30e-fceea9e1fd2d"
      },
      "source": [
        "opt=optimizers.Adam(learning_rate=0.0001)\n",
        "model.compile(loss='categorical_crossentropy',optimizer=opt,metrics=['acc'])\n",
        "history = model.fit(\n",
        "    img_train,\n",
        "    epochs=20,\n",
        "    validation_data=img_val\n",
        ")"
      ],
      "execution_count": null,
      "outputs": [
        {
          "output_type": "stream",
          "text": [
            "Epoch 1/20\n",
            "2372/2372 [==============================] - 1277s 538ms/step - loss: 1.7249 - acc: 0.5356 - val_loss: 1.3495 - val_acc: 0.6223\n",
            "Epoch 2/20\n",
            "2372/2372 [==============================] - 1282s 540ms/step - loss: 1.4054 - acc: 0.6131 - val_loss: 1.2947 - val_acc: 0.6348\n",
            "Epoch 3/20\n",
            " 416/2372 [====>.........................] - ETA: 15:29 - loss: 1.3138 - acc: 0.6300"
          ],
          "name": "stdout"
        }
      ]
    },
    {
      "cell_type": "code",
      "metadata": {
        "id": "5UC41dFkZ0cm"
      },
      "source": [
        "model.evaluate(img_test,verbose=1)"
      ],
      "execution_count": null,
      "outputs": []
    },
    {
      "cell_type": "code",
      "metadata": {
        "id": "W0nJbgRzZ0co"
      },
      "source": [
        "plt.plot(history.history['acc'])\n",
        "plt.plot(history.history['val_acc'])\n",
        "plt.title('model accuracy')\n",
        "plt.ylabel('accuracy')\n",
        "plt.xlabel('epoch')\n",
        "plt.legend(['train', 'val'], loc='upper left')\n",
        "\n",
        "plt.show()"
      ],
      "execution_count": null,
      "outputs": []
    },
    {
      "cell_type": "code",
      "metadata": {
        "id": "7ZvLp-O0Z0cq"
      },
      "source": [
        "predictions = model.predict(img_test,verbose=1)\n",
        "predicted_classes = np.argmax(predictions, axis=1)\n",
        "true_classes = img_test.classes\n",
        "plt.figure(figsize = (14,10))\n",
        "sns.heatmap(pd.DataFrame(metrics.confusion_matrix(true_classes, predicted_classes)), annot=True, fmt='d', cmap='YlGnBu', vmin=0)\n"
      ],
      "execution_count": null,
      "outputs": []
    },
    {
      "cell_type": "code",
      "metadata": {
        "id": "EDqjSpL8Z0ct"
      },
      "source": [
        ""
      ],
      "execution_count": null,
      "outputs": []
    }
  ]
}