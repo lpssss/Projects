{
  "nbformat": 4,
  "nbformat_minor": 0,
  "metadata": {
    "colab": {
      "name": "logistics (reviewed).ipynb",
      "provenance": []
    },
    "kernelspec": {
      "name": "python3",
      "display_name": "Python 3"
    }
  },
  "cells": [
    {
      "cell_type": "code",
      "metadata": {
        "id": "pigSr1qonWjp"
      },
      "source": [
        "import pandas as pd\n",
        "import numpy as np"
      ],
      "execution_count": null,
      "outputs": []
    },
    {
      "cell_type": "code",
      "metadata": {
        "id": "zZywrLo-P_uX",
        "colab": {
          "base_uri": "https://localhost:8080/",
          "height": 122
        },
        "outputId": "a6070cfb-0507-414f-f7ef-92c4f163ac1f"
      },
      "source": [
        "from google.colab import drive\n",
        "drive.mount('/content/drive/')"
      ],
      "execution_count": null,
      "outputs": [
        {
          "output_type": "stream",
          "text": [
            "Go to this URL in a browser: https://accounts.google.com/o/oauth2/auth?client_id=947318989803-6bn6qk8qdgf4n4g3pfee6491hc0brc4i.apps.googleusercontent.com&redirect_uri=urn%3aietf%3awg%3aoauth%3a2.0%3aoob&response_type=code&scope=email%20https%3a%2f%2fwww.googleapis.com%2fauth%2fdocs.test%20https%3a%2f%2fwww.googleapis.com%2fauth%2fdrive%20https%3a%2f%2fwww.googleapis.com%2fauth%2fdrive.photos.readonly%20https%3a%2f%2fwww.googleapis.com%2fauth%2fpeopleapi.readonly\n",
            "\n",
            "Enter your authorization code:\n",
            "··········\n",
            "Mounted at /content/drive/\n"
          ],
          "name": "stdout"
        }
      ]
    },
    {
      "cell_type": "code",
      "metadata": {
        "id": "uCn_1gdrn1Y1"
      },
      "source": [
        "order_df=pd.read_csv('/content/drive/My Drive/logistics-shopee-code-league/delivery_orders_march.csv')"
      ],
      "execution_count": null,
      "outputs": []
    },
    {
      "cell_type": "code",
      "metadata": {
        "id": "06iSVhLsokXP"
      },
      "source": [
        "order_df['buyeraddress']=order_df['buyeraddress'].str.lower()\n",
        "order_df['selleraddress']=order_df['selleraddress'].str.lower()\n",
        "place=['metro manila','luzon','visayas','mindanao']\n",
        "for ele in place: \n",
        "  order_df['tempIndex']=order_df['buyeraddress'].str.find(ele) \n",
        "  order_df['tempIndex1']=order_df['selleraddress'].str.find(ele)\n",
        "  order_df.loc[order_df['tempIndex']!=-1,'buyeraddress']=ele\n",
        "  order_df.loc[order_df['tempIndex1']!=-1,'selleraddress']=ele\n",
        "order_df=order_df.drop(columns=['tempIndex','tempIndex1'])"
      ],
      "execution_count": null,
      "outputs": []
    },
    {
      "cell_type": "code",
      "metadata": {
        "id": "or9VMKXpvnVw"
      },
      "source": [
        "order_df['pick_date'] = pd.to_datetime(order_df['pick'],unit = 's').dt.tz_localize(\"GMT\").dt.tz_convert('Singapore').dt.tz_localize(None)\n",
        "order_df['delivery_date'] = pd.to_datetime(order_df['1st_deliver_attempt'],unit = 's').dt.tz_localize(\"GMT\").dt.tz_convert('Singapore').dt.tz_localize(None)\n",
        "order_df['delivery2_date'] = pd.to_datetime(order_df['2nd_deliver_attempt'],unit = 's').dt.tz_localize(\"GMT\").dt.tz_convert('Singapore').dt.tz_localize(None)\n",
        "order_df['pick_day'] = order_df['pick_date'].dt.dayofweek\n",
        "order_df['delivery_day'] = order_df['delivery_date'].dt.dayofweek\n",
        "order_df['delivery2_day'] = order_df['delivery2_date'].dt.dayofweek"
      ],
      "execution_count": null,
      "outputs": []
    },
    {
      "cell_type": "code",
      "metadata": {
        "id": "n_PC_fW30GG6"
      },
      "source": [
        "order_df['working days']=7\n",
        "order_df.loc[(order_df['buyeraddress']=='metro manila') & (order_df['selleraddress']=='metro manila'),'working days']=3\n",
        "order_df.loc[(order_df['buyeraddress']=='luzon') & (order_df['selleraddress']=='luzon'),'working days']=5\n",
        "order_df.loc[(order_df['buyeraddress']=='metro manila') & (order_df['selleraddress']=='luzon'),'working days']=5\n",
        "order_df.loc[(order_df['buyeraddress']=='luzon') & (order_df['selleraddress']=='metro manila'),'working days']=5"
      ],
      "execution_count": null,
      "outputs": []
    },
    {
      "cell_type": "code",
      "metadata": {
        "id": "OtRtLeBME4Uy",
        "colab": {
          "base_uri": "https://localhost:8080/",
          "height": 51
        },
        "outputId": "cbdd3872-60e8-436a-bef1-13a66edd9309"
      },
      "source": [
        "order_df['duration']=order_df['delivery_date'].dt.date-order_df['pick_date'].dt.date\n",
        "order_df['re_duration']=order_df['delivery2_date'].dt.date-order_df['delivery_date'].dt.date\n",
        "order_df.drop(columns=['pick','1st_deliver_attempt','2nd_deliver_attempt','buyeraddress','selleraddress'],inplace=True)"
      ],
      "execution_count": null,
      "outputs": [
        {
          "output_type": "stream",
          "text": [
            "CPU times: user 19.5 s, sys: 275 ms, total: 19.8 s\n",
            "Wall time: 19.8 s\n"
          ],
          "name": "stdout"
        }
      ]
    },
    {
      "cell_type": "code",
      "metadata": {
        "id": "izGcdGz3ZGT-"
      },
      "source": [
        "import datetime\n",
        "order_df['ph1']=datetime.date(2020,3,8)\n",
        "order_df['ph2']=datetime.date(2020,3,25)\n",
        "order_df['ph3']=datetime.date(2020,3,30)\n",
        "order_df['ph4']=datetime.date(2020,3,31)\n",
        "order_df['ph5']=datetime.date(2020,3,15)\n",
        "order_df['ph6']=datetime.date(2020,3,22)\n",
        "order_df['ph7']=datetime.date(2020,3,29)\n",
        "order_df['ph8']=datetime.date(2020,4,5)\n",
        "order_df"
      ],
      "execution_count": null,
      "outputs": []
    },
    {
      "cell_type": "code",
      "metadata": {
        "id": "ymncf-1aVPzw"
      },
      "source": [
        "order_df['is_late']=0\n",
        "order_df['duration_bonus']=0\n",
        "order_df['re_duration_bonus']=0\n",
        "for cols in order_df.columns[10:18]:\n",
        "  order_df.loc[(order_df[cols]>order_df['pick_date'].dt.date) & (order_df['delivery_date'].dt.date>order_df[cols]),'duration_bonus']+=1\n",
        "  order_df.loc[(order_df[cols]>order_df['delivery_date'].dt.date) & (order_df['delivery2_date'].dt.date>order_df[cols]),'re_duration_bonus']+=1\n",
        "order_df['duration']=order_df['duration'].dt.days-order_df['duration_bonus']\n",
        "order_df['re_duration']=order_df['re_duration'].dt.days-order_df['re_duration_bonus']"
      ],
      "execution_count": null,
      "outputs": []
    },
    {
      "cell_type": "code",
      "metadata": {
        "id": "bGnhzenDbB-p"
      },
      "source": [
        "order_df.loc[(order_df['working days']<order_df['duration']) | (order_df['re_duration']>3), 'is_late']=1\n",
        "ans=pd.DataFrame(order_df[['orderid','is_late']])\n",
        "ans.to_csv('/content/drive/My Drive/logistics.csv',index=False)"
      ],
      "execution_count": null,
      "outputs": []
    }
  ]
}