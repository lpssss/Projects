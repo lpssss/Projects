{
  "cells": [
    {
      "cell_type": "code",
      "execution_count": null,
      "metadata": {
        "id": "DTAQ1BS-2Vcq"
      },
      "outputs": [],
      "source": [
        "import pandas as pd\n",
        "import numpy as np\n",
        "import collections\n",
        "#set the number of columns and rows of the dataframe to display\n",
        "pd.set_option('display.max_columns', None)\n",
        "pd.set_option('display.max_rows', 10)"
      ]
    },
    {
      "cell_type": "code",
      "execution_count": null,
      "metadata": {
        "id": "nNvgHHzh2Vcy",
        "outputId": "9f8e84ff-c4d8-4673-a48e-4589b0d990fa"
      },
      "outputs": [
        {
          "data": {
            "text/html": [
              "<div>\n",
              "<style scoped>\n",
              "    .dataframe tbody tr th:only-of-type {\n",
              "        vertical-align: middle;\n",
              "    }\n",
              "\n",
              "    .dataframe tbody tr th {\n",
              "        vertical-align: top;\n",
              "    }\n",
              "\n",
              "    .dataframe thead th {\n",
              "        text-align: right;\n",
              "    }\n",
              "</style>\n",
              "<table border=\"1\" class=\"dataframe\">\n",
              "  <thead>\n",
              "    <tr style=\"text-align: right;\">\n",
              "      <th></th>\n",
              "      <th>orderid</th>\n",
              "      <th>shopid</th>\n",
              "      <th>userid</th>\n",
              "      <th>event_time</th>\n",
              "    </tr>\n",
              "  </thead>\n",
              "  <tbody>\n",
              "    <tr>\n",
              "      <th>0</th>\n",
              "      <td>31076582227611</td>\n",
              "      <td>93950878</td>\n",
              "      <td>30530270</td>\n",
              "      <td>2019-12-27 00:23:03</td>\n",
              "    </tr>\n",
              "    <tr>\n",
              "      <th>1</th>\n",
              "      <td>31118059853484</td>\n",
              "      <td>156423439</td>\n",
              "      <td>46057927</td>\n",
              "      <td>2019-12-27 11:54:20</td>\n",
              "    </tr>\n",
              "    <tr>\n",
              "      <th>2</th>\n",
              "      <td>31123355095755</td>\n",
              "      <td>173699291</td>\n",
              "      <td>67341739</td>\n",
              "      <td>2019-12-27 13:22:35</td>\n",
              "    </tr>\n",
              "    <tr>\n",
              "      <th>3</th>\n",
              "      <td>31122059872723</td>\n",
              "      <td>63674025</td>\n",
              "      <td>149380322</td>\n",
              "      <td>2019-12-27 13:01:00</td>\n",
              "    </tr>\n",
              "    <tr>\n",
              "      <th>4</th>\n",
              "      <td>31117075665123</td>\n",
              "      <td>127249066</td>\n",
              "      <td>149493217</td>\n",
              "      <td>2019-12-27 11:37:55</td>\n",
              "    </tr>\n",
              "    <tr>\n",
              "      <th>...</th>\n",
              "      <td>...</td>\n",
              "      <td>...</td>\n",
              "      <td>...</td>\n",
              "      <td>...</td>\n",
              "    </tr>\n",
              "    <tr>\n",
              "      <th>222745</th>\n",
              "      <td>31245479170194</td>\n",
              "      <td>110868129</td>\n",
              "      <td>193218997</td>\n",
              "      <td>2019-12-28 23:17:59</td>\n",
              "    </tr>\n",
              "    <tr>\n",
              "      <th>222746</th>\n",
              "      <td>31230440360374</td>\n",
              "      <td>91639906</td>\n",
              "      <td>3541807</td>\n",
              "      <td>2019-12-28 19:07:20</td>\n",
              "    </tr>\n",
              "    <tr>\n",
              "      <th>222747</th>\n",
              "      <td>31191471145838</td>\n",
              "      <td>29391773</td>\n",
              "      <td>135908070</td>\n",
              "      <td>2019-12-28 08:17:52</td>\n",
              "    </tr>\n",
              "    <tr>\n",
              "      <th>222748</th>\n",
              "      <td>31198471732255</td>\n",
              "      <td>61556313</td>\n",
              "      <td>27306783</td>\n",
              "      <td>2019-12-28 10:14:31</td>\n",
              "    </tr>\n",
              "    <tr>\n",
              "      <th>222749</th>\n",
              "      <td>31164356713822</td>\n",
              "      <td>147941492</td>\n",
              "      <td>127484153</td>\n",
              "      <td>2019-12-28 00:45:56</td>\n",
              "    </tr>\n",
              "  </tbody>\n",
              "</table>\n",
              "<p>222750 rows × 4 columns</p>\n",
              "</div>"
            ],
            "text/plain": [
              "               orderid     shopid     userid           event_time\n",
              "0       31076582227611   93950878   30530270  2019-12-27 00:23:03\n",
              "1       31118059853484  156423439   46057927  2019-12-27 11:54:20\n",
              "2       31123355095755  173699291   67341739  2019-12-27 13:22:35\n",
              "3       31122059872723   63674025  149380322  2019-12-27 13:01:00\n",
              "4       31117075665123  127249066  149493217  2019-12-27 11:37:55\n",
              "...                ...        ...        ...                  ...\n",
              "222745  31245479170194  110868129  193218997  2019-12-28 23:17:59\n",
              "222746  31230440360374   91639906    3541807  2019-12-28 19:07:20\n",
              "222747  31191471145838   29391773  135908070  2019-12-28 08:17:52\n",
              "222748  31198471732255   61556313   27306783  2019-12-28 10:14:31\n",
              "222749  31164356713822  147941492  127484153  2019-12-28 00:45:56\n",
              "\n",
              "[222750 rows x 4 columns]"
            ]
          },
          "execution_count": 2,
          "metadata": {},
          "output_type": "execute_result"
        }
      ],
      "source": [
        "df = pd.read_csv(\"D:\\\\order_brush_order.csv\")\n",
        "df\n"
      ]
    },
    {
      "cell_type": "code",
      "execution_count": null,
      "metadata": {
        "id": "l879Kbqr2Vc0"
      },
      "outputs": [],
      "source": [
        "def processdate(row):\n",
        "    #split space(date[0] & time[1]),then split hyphen(year[0],month[1],day[2]) **split function will split str into list\n",
        "    day = int(row['event_time'].split(' ')[0].split('-')[2]) \n",
        "    #similar to above\n",
        "    hour = int(row['event_time'].split(' ')[1].split(':')[0])\n",
        "    minute = int(row['event_time'].split(' ')[1].split(':')[1])\n",
        "    sec = int(row['event_time'].split(' ')[1].split(':')[2])\n",
        "    #as there is only day 27&28, then set day 27 first second as standard, change time unit to seconds\n",
        "    return ((day-27)*86400 + hour*3600 + minute*60 + sec)"
      ]
    },
    {
      "cell_type": "code",
      "execution_count": null,
      "metadata": {
        "id": "wbfMEjbP2Vc2"
      },
      "outputs": [],
      "source": [
        "#axis=1 means apply to each row of 'event_time', perform the func and insert the result in a new column 'time', dunno how to replace lambda with normal function \n",
        "df['time'] = df.apply(lambda row: processdate(row),axis=1)\n",
        "#drop columns orderid and event_time, inplace=True means do the modification on the same dataframe instead of returning a new dataframe\n",
        "df.drop(columns = ['event_time'], inplace = True)\n",
        "\n",
        "#sort shopid(first) and time(second) in df\n",
        "df.sort_values(by=['shopid','time'], inplace = True)\n",
        "#reset index after sorting, drop=True to prevent old index to be added as new column\n",
        "df.reset_index(drop=True, inplace = True)\n"
      ]
    },
    {
      "cell_type": "code",
      "execution_count": null,
      "metadata": {
        "id": "R4CTqpXq2Vc4"
      },
      "outputs": [],
      "source": [
        "#construct dataframe named answer, the dataframe index is sorted shopid (create unique shopid using pandas.unique)\n",
        "answer = pd.DataFrame(index = np.sort(df['shopid'].unique()))\n",
        "#create new column named userid with values=0\n",
        "answer['userid'] = '0'\n",
        "#create array of dataframe df (easier to manipulate)\n",
        "arr = np.array(df)\n",
        "#loop through each order instance\n",
        "for i in range(len(arr)):\n",
        "    shopid=arr[i][1] #save current shopid\n",
        "    #if(shopid!=147941492):\n",
        "    #    continue\n",
        "    starttime=arr[i][3] #save currrent time\n",
        "    index=i  #save current index\n",
        "    orderid_temp=[arr[i][0]]  #create a list of orderid and insert current orderid in it(renewed when starttime change)  \n",
        "    orderid_userid_templist=[]\n",
        "    buyer_unique={arr[i][2]}\n",
        "    if(i==0 or shopid!=arr[i-1][1]):\n",
        "        orderid_userid_list=[]\n",
        "    m=0\n",
        "    while True:\n",
        "        #count=0    #variable to count number of the buyer mode\n",
        "        index+=1\n",
        "        #break when reach end of array or span time exceeded 3600secs or shopid change\n",
        "        if(index==len(arr) or arr[index][3]-starttime>3600 or arr[index][1]!=shopid):\n",
        "            break\n",
        "        orderid_temp.append(arr[index][0]) #add orderid of all looped instance\n",
        "        buyer_unique.update([arr[index][2]]) #add buyerid of all looped instance in set     \n",
        "        orderid_userid_templist.append([str(arr[index][0]),str(arr[index][2])])\n",
        "        #if concentration>=3.0, find mode and number of occurences of mode in buyer list\n",
        "        if (float(len(orderid_temp))/float(len(buyer_unique))>=3.0):\n",
        "            orderid_userid_list.extend(orderid_userid_templist)\n",
        "\n",
        "    #update final answer when order instance reach end of array or next shopid is different\n",
        "    if(i==len(arr)-1 or arr[i+1][1]!=shopid):\n",
        "        #print(shopid)\n",
        "        maxNum=0\n",
        "        new_orderid_userid_list=[]\n",
        "        for elem in orderid_userid_list:\n",
        "            if(elem not in new_orderid_userid_list):\n",
        "                new_orderid_userid_list.append(elem)\n",
        "        new_orderid_userid_list.sort(key=lambda x:x[1])\n",
        "        #print(new_orderid_userid_list) \n",
        "        \n",
        "        temp=0\n",
        "        for num in range(len(new_orderid_userid_list)):\n",
        "            count=1\n",
        "            if(new_orderid_userid_list[num][1]==temp):\n",
        "                continue\n",
        "            temp=new_orderid_userid_list[num][1]\n",
        "            for num1 in range((num+1), len(new_orderid_userid_list)):\n",
        "                if(new_orderid_userid_list[num1][1]==temp):\n",
        "                        count+=1\n",
        "            if(count>maxNum):\n",
        "                maxNum=count\n",
        "       # print(maxNum)\n",
        "        switch=0\n",
        "        tempBuyerid=0\n",
        "        for num in range(len(new_orderid_userid_list)):\n",
        "            if(new_orderid_userid_list[num][1]==tempBuyerid):\n",
        "                continue\n",
        "            tempBuyerid=new_orderid_userid_list[num][1]\n",
        "            temp1=sum(x.count(tempBuyerid) for x in new_orderid_userid_list)\n",
        "            if(temp1==maxNum):\n",
        "                #print(tempBuyerid)\n",
        "                if(switch==1):\n",
        "                    answer.loc[shopid]['userid']+='&'\n",
        "                    answer.loc[shopid]['userid']+=str(tempBuyerid)\n",
        "                else:\n",
        "                    answer.loc[shopid]['userid']=str(tempBuyerid)\n",
        "                    switch=1\n",
        "        \n"
      ]
    },
    {
      "cell_type": "code",
      "execution_count": null,
      "metadata": {
        "id": "2Sfe25PF2Vc8"
      },
      "outputs": [],
      "source": [
        "submit = pd.DataFrame(data = {'shopid':answer.index,'userid':answer['userid']})\n",
        "#index=row name, header=column name, r'str' means raw string\n",
        "submit.to_csv (r'final9.csv', index = False, header=True)\n"
      ]
    },
    {
      "cell_type": "code",
      "execution_count": null,
      "metadata": {
        "id": "O7dOoB1D2Vc-"
      },
      "outputs": [],
      "source": [
        ""
      ]
    }
  ],
  "metadata": {
    "kernelspec": {
      "display_name": "Python 3",
      "language": "python",
      "name": "python3"
    },
    "language_info": {
      "codemirror_mode": {
        "name": "ipython",
        "version": 3
      },
      "file_extension": ".py",
      "mimetype": "text/x-python",
      "name": "python",
      "nbconvert_exporter": "python",
      "pygments_lexer": "ipython3",
      "version": "3.7.6"
    },
    "colab": {
      "name": "Order Brushing.ipynb",
      "provenance": []
    }
  },
  "nbformat": 4,
  "nbformat_minor": 0
}